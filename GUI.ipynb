{
 "cells": [
  {
   "cell_type": "code",
   "execution_count": 2,
   "metadata": {
    "collapsed": true
   },
   "outputs": [],
   "source": [
    "import tkinter\n",
    "import dbutils\n",
    "import fileutils\n",
    "from tkinter import filedialog"
   ]
  },
  {
   "cell_type": "code",
   "execution_count": 84,
   "metadata": {},
   "outputs": [],
   "source": [
    "def filepick():\n",
    "    global filename\n",
    "    filename = filedialog.askopenfilename(initialdir = \"~/\")"
   ]
  },
  {
   "cell_type": "code",
   "execution_count": 85,
   "metadata": {},
   "outputs": [],
   "source": [
    "def fetch_files(listbox):\n",
    "    listbox.delete(0, tkinter.END)\n",
    "    filelist = fileutils.get_list()\n",
    "    for x in filelist:\n",
    "        listbox.insert(tkinter.END,x)"
   ]
  },
  {
   "cell_type": "code",
   "execution_count": 130,
   "metadata": {
    "collapsed": true
   },
   "outputs": [],
   "source": [
    "window = tkinter.Tk()"
   ]
  },
  {
   "cell_type": "code",
   "execution_count": 131,
   "metadata": {
    "collapsed": true
   },
   "outputs": [],
   "source": [
    "l1 = tkinter.Label(window, text=\"Enter Password\")\n",
    "l1.grid(column=0, row=0)"
   ]
  },
  {
   "cell_type": "code",
   "execution_count": 132,
   "metadata": {
    "collapsed": true
   },
   "outputs": [],
   "source": [
    "txt = tkinter.Entry(window, width = 10)\n",
    "txt.grid(column=1, row=0)"
   ]
  },
  {
   "cell_type": "code",
   "execution_count": 133,
   "metadata": {},
   "outputs": [],
   "source": [
    "bt = tkinter.Button(window, text=\"Fetch DataBase\",command=lambda: dbutils.fetch_db(txt.get()))\n",
    "bt.grid(column=1,row=1)"
   ]
  },
  {
   "cell_type": "code",
   "execution_count": 134,
   "metadata": {},
   "outputs": [],
   "source": [
    "global filename\n",
    "filename = \"\"\n",
    "btupload_start = tkinter.Button(window, text=\"Choose file\", command=lambda: filepick())\n",
    "btupload_start.grid(column=0, row=2)"
   ]
  },
  {
   "cell_type": "code",
   "execution_count": 135,
   "metadata": {
    "collapsed": true
   },
   "outputs": [],
   "source": [
    "bt_upload = tkinter.Button(window, text=\"Upload\", command=lambda: fileutils.push_file(filename))\n",
    "bt_upload.grid(column=0, row=3)"
   ]
  },
  {
   "cell_type": "code",
   "execution_count": 136,
   "metadata": {
    "collapsed": true
   },
   "outputs": [],
   "source": [
    "bt_delete = tkinter.Button(window, text=\"Delete\", command = lambda: fileutils.delete_file(listbox.get(tkinter.ACTIVE)))\n",
    "bt_delete.grid(column=1, row=5)"
   ]
  },
  {
   "cell_type": "code",
   "execution_count": 137,
   "metadata": {
    "collapsed": true
   },
   "outputs": [],
   "source": [
    "listbox = tkinter.Listbox(window)\n",
    "listbox.grid(column=1, row=3)"
   ]
  },
  {
   "cell_type": "code",
   "execution_count": 138,
   "metadata": {},
   "outputs": [],
   "source": [
    "btdownload_start = tkinter.Button(window, text = \"View Files\", command = lambda: fetch_files(listbox))\n",
    "btdownload_start.grid(column=1, row=2)"
   ]
  },
  {
   "cell_type": "code",
   "execution_count": 139,
   "metadata": {
    "collapsed": true
   },
   "outputs": [],
   "source": [
    "bt_download = tkinter.Button(window, text=\"Download\", command = lambda: fileutils.pull_file(listbox.get(tkinter.ACTIVE)))\n",
    "bt_download.grid(column = 1, row = 4)"
   ]
  },
  {
   "cell_type": "code",
   "execution_count": 140,
   "metadata": {
    "collapsed": true
   },
   "outputs": [],
   "source": [
    "l1 = tkinter.Label(window, text=\"Enter Password\")\n",
    "l1.grid(column=0, row=6)"
   ]
  },
  {
   "cell_type": "code",
   "execution_count": 141,
   "metadata": {
    "collapsed": true
   },
   "outputs": [],
   "source": [
    "txt2 = tkinter.Entry(window, width = 10)\n",
    "txt2.grid(column=1, row=6)"
   ]
  },
  {
   "cell_type": "code",
   "execution_count": 142,
   "metadata": {},
   "outputs": [],
   "source": [
    "bt_pushdb = tkinter.Button(window, text=\"Push Database\", command = lambda: dbutils.push_db(txt.get()))\n",
    "bt_pushdb.grid(column=1, row=7)"
   ]
  },
  {
   "cell_type": "code",
   "execution_count": 143,
   "metadata": {
    "scrolled": true
   },
   "outputs": [],
   "source": [
    "window.mainloop()"
   ]
  },
  {
   "cell_type": "code",
   "execution_count": null,
   "metadata": {
    "collapsed": true
   },
   "outputs": [],
   "source": []
  }
 ],
 "metadata": {
  "kernelspec": {
   "display_name": "Python 3",
   "language": "python",
   "name": "python3"
  },
  "language_info": {
   "codemirror_mode": {
    "name": "ipython",
    "version": 3
   },
   "file_extension": ".py",
   "mimetype": "text/x-python",
   "name": "python",
   "nbconvert_exporter": "python",
   "pygments_lexer": "ipython3",
   "version": "3.6.1"
  }
 },
 "nbformat": 4,
 "nbformat_minor": 2
}
