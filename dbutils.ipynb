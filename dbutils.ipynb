{
 "cells": [
  {
   "cell_type": "code",
   "execution_count": 1,
   "metadata": {
    "collapsed": true
   },
   "outputs": [],
   "source": [
    "import base64\n",
    "import os\n",
    "from cryptography.hazmat.backends import default_backend\n",
    "from cryptography.hazmat.primitives import hashes\n",
    "from cryptography.hazmat.primitives.kdf.pbkdf2 import PBKDF2HMAC\n",
    "from shutil import copyfile\n",
    "from shutil import  move\n",
    "import time\n",
    "import random\n",
    "import string"
   ]
  },
  {
   "cell_type": "code",
   "execution_count": 2,
   "metadata": {
    "collapsed": true
   },
   "outputs": [],
   "source": [
    "from cryptography.fernet import Fernet"
   ]
  },
  {
   "cell_type": "code",
   "execution_count": 3,
   "metadata": {
    "collapsed": true
   },
   "outputs": [],
   "source": [
    "def keyderive(passw):\n",
    "    password_provided = passw\n",
    "    password = password_provided.encode() # Convert to type bytes\n",
    "    salt = b'salt_' # CHANGE THIS - recommend using a key from os.urandom(16), must be of type bytes\n",
    "    kdf = PBKDF2HMAC(\n",
    "        algorithm=hashes.SHA256(),\n",
    "        length=32,\n",
    "        salt=salt,\n",
    "        iterations=100000,\n",
    "        backend=default_backend()\n",
    "    )\n",
    "    key = base64.urlsafe_b64encode(kdf.derive(password))\n",
    "    return key"
   ]
  },
  {
   "cell_type": "code",
   "execution_count": 4,
   "metadata": {
    "collapsed": true
   },
   "outputs": [],
   "source": [
    "def decrypt_file(file, key):\n",
    "    fer = Fernet(key)\n",
    "\n",
    "    with open(file, 'rb') as f:\n",
    "        decrypted_file = fer.decrypt(f.read())\n",
    "\n",
    "    with open(\"files.db\", 'wb') as f:\n",
    "        f.write(decrypted_file)"
   ]
  },
  {
   "cell_type": "code",
   "execution_count": 5,
   "metadata": {
    "collapsed": true
   },
   "outputs": [],
   "source": [
    "def encrypt_file(file, key, name):\n",
    "    fer = Fernet(key)\n",
    "    \n",
    "    with open(file, 'rb') as f:\n",
    "        encrypted_file = fer.encrypt(f.read())\n",
    "    with open(name, 'wb') as f:\n",
    "        f.write(encrypted_file)"
   ]
  },
  {
   "cell_type": "code",
   "execution_count": 6,
   "metadata": {
    "collapsed": true
   },
   "outputs": [],
   "source": [
    "def fetch_db(password):\n",
    "    key = keyderive(password)\n",
    "    try:\n",
    "        copyfile(\"/tmp/outputs/\"+sorted(os.listdir(\"/tmp/outputs\"))[0], \"./encrypteddb\")\n",
    "    except:\n",
    "        f = open(\"files.db\", \"wb\")\n",
    "        f.close()\n",
    "        encrypt_file(\"files.db\", key, \"encrypteddb\")\n",
    "        push_db(password)\n",
    "    decrypt_file(\"encrypteddb\", key)\n",
    "    os.remove(\"encrypteddb\")"
   ]
  },
  {
   "cell_type": "code",
   "execution_count": 10,
   "metadata": {
    "collapsed": true
   },
   "outputs": [],
   "source": [
    "def push_db(password):\n",
    "    key = keyderive(password)\n",
    "    try:\n",
    "        filename = sorted(os.listdir(\"/tmp/outputs\"))[0]\n",
    "    except:\n",
    "        filename = str(time.time()) + ''.join(random.SystemRandom().choice(string.ascii_uppercase + string.ascii_lowercase + string.digits) for _ in range(10))\n",
    "    encrypt_file(\"files.db\", key, filename)\n",
    "    move(filename, \"/tmp/outputs/\"+filename)\n",
    "    os.remove(\"files.db\")\n",
    "    #os.remove(filename)"
   ]
  },
  {
   "cell_type": "code",
   "execution_count": null,
   "metadata": {
    "collapsed": true
   },
   "outputs": [],
   "source": []
  }
 ],
 "metadata": {
  "kernelspec": {
   "display_name": "Python 3",
   "language": "python",
   "name": "python3"
  },
  "language_info": {
   "codemirror_mode": {
    "name": "ipython",
    "version": 3
   },
   "file_extension": ".py",
   "mimetype": "text/x-python",
   "name": "python",
   "nbconvert_exporter": "python",
   "pygments_lexer": "ipython3",
   "version": "3.6.1"
  }
 },
 "nbformat": 4,
 "nbformat_minor": 2
}
