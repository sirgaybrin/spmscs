{
 "cells": [
  {
   "cell_type": "code",
   "execution_count": 66,
   "metadata": {
    "collapsed": true
   },
   "outputs": [],
   "source": [
    "import sqlite3\n",
    "import pickle\n",
    "from shutil import copyfile\n",
    "import os\n",
    "import subprocess\n",
    "import time\n",
    "import random\n",
    "import string"
   ]
  },
  {
   "cell_type": "code",
   "execution_count": 3,
   "metadata": {
    "collapsed": true
   },
   "outputs": [],
   "source": [
    "def get_list():\n",
    "    conn = sqlite3.connect('files.db')\n",
    "    c = conn.cursor()\n",
    "    query = \"SELECT filename FROM file2key\"\n",
    "    c.execute(query)\n",
    "    l = c.fetchall()\n",
    "    conn.close()\n",
    "    filelist = []\n",
    "    for x in l:\n",
    "        print(x[0])\n",
    "        filelist.append(x[0])\n",
    "    print(filelist)\n",
    "    return filelist"
   ]
  },
  {
   "cell_type": "code",
   "execution_count": 75,
   "metadata": {
    "collapsed": true
   },
   "outputs": [],
   "source": [
    "def pull_file(filename):\n",
    "    conn = sqlite3.connect('files.db')\n",
    "    c = conn.cursor()\n",
    "    query = \"SELECT key, piecelistname FROM file2key WHERE filename = '\" + filename + \"';\"\n",
    "    #print(query)\n",
    "    c.execute(query)\n",
    "    l = c.fetchall()\n",
    "    conn.close()\n",
    "    success = 0\n",
    "    for x in l:\n",
    "        success = 1\n",
    "        key = x[0]\n",
    "        piecelist = x[1]\n",
    "        copyfile(\"/tmp/outputs/\" + piecelist, \n",
    "                 \"./\" + piecelist)\n",
    "        #print(piecelist)\n",
    "        with open(piecelist, \"rb\") as f:\n",
    "            pieces = pickle.load(f)\n",
    "        #print(pieces)\n",
    "        command = \"cat \"\n",
    "        for piece in pieces:\n",
    "            command += \"/tmp/outputs/\" + piece + \" \"\n",
    "        \n",
    "        command += \" | ./hpenc -k \" + key + \" -d \" + \" | tar xvaf -\"\n",
    "        #print(command)\n",
    "        os.system(command)\n",
    "        os.remove(\"./\" + piecelist)\n",
    "    if success:\n",
    "        print(\"Successful\")\n",
    "    else:\n",
    "        print(\"Not Successful\")"
   ]
  },
  {
   "cell_type": "code",
   "execution_count": 54,
   "metadata": {
    "collapsed": true,
    "scrolled": true
   },
   "outputs": [],
   "source": [
    "def delete_file(filename):\n",
    "    conn = sqlite3.connect('files.db')\n",
    "    c = conn.cursor()\n",
    "    query = \"SELECT key, piecelistname FROM file2key WHERE filename = '\" + filename + \"';\"\n",
    "    #print(query)\n",
    "    c.execute(query)\n",
    "    l = c.fetchall()\n",
    "    query = \"DELETE  FROM file2key WHERE filename = '\" + filename + \"';\"\n",
    "    c.execute(query)\n",
    "    conn.commit()\n",
    "    conn.close()\n",
    "    for x in l:\n",
    "        key = x[0]\n",
    "        piecelist = x[1]\n",
    "        copyfile(\"/tmp/outputs/\" + piecelist, \n",
    "                 \"./\" + piecelist)\n",
    "        #print(piecelist)\n",
    "        with open(piecelist, \"rb\") as f:\n",
    "            pieces = pickle.load(f)\n",
    "        #print(pieces)\n",
    "        for piece in pieces:\n",
    "            os.remove(\"/tmp/outputs/\"+piece)\n",
    "        os.remove(\"/tmp/outputs/\"+piecelist)\n",
    "        os.remove(\"./\" + piecelist)"
   ]
  },
  {
   "cell_type": "code",
   "execution_count": 68,
   "metadata": {
    "collapsed": true
   },
   "outputs": [],
   "source": [
    "def push_file(filename):\n",
    "    conn = sqlite3.connect('files.db')\n",
    "    c = conn.cursor()\n",
    "\n",
    "    a = subprocess.check_output(\"./hpenc psk\",  shell=True)\n",
    "    key = a.split()[-1]\n",
    "    #print(key.decode(\"utf-8\"))\n",
    "    #filename = sys.argv[1]\n",
    "    os.system(\"mkdir output\")\n",
    "    command = \"tar cvf - \" + filename + \" | ./hpenc -b 16M -k \" + key.decode(\"utf-8\")  +\" | split -b 2M - output/\"\n",
    "    os.system(command)\n",
    "    l = []\n",
    "    origfilename = filename.split(\"/\")[-1]\n",
    "    for x in sorted(os.listdir(\"output\")):\n",
    "        filename = str(time.time()) + ''.join(random.SystemRandom().choice(string.ascii_uppercase + string.ascii_lowercase + string.digits) for _ in range(10))\n",
    "        #print(x, filename)\n",
    "        os.system(\"mv output/\" + x + \" /tmp/outputs/\" +  filename)\n",
    "        l.append(filename)\n",
    "\n",
    "    piecelistname = str(time.time()) + ''.join(random.SystemRandom().choice(string.ascii_uppercase + string.ascii_lowercase + string.digits) for _ in range(10))\n",
    "    piecelist = open(\"./output/\" + piecelistname, 'wb')\n",
    "    pickle.dump(l, piecelist)\n",
    "    piecelist.close()\n",
    "    copyfile(\"./output/\" + piecelistname, \"/tmp/outputs/\"+piecelistname)\n",
    "\n",
    "    try:\n",
    "        query = \"INSERT INTO file2key VALUES('\" + origfilename + \"', '\" + key.decode(\"utf-8\") +  \"', '\" +  piecelistname + \"')\"\n",
    "        #print(query)\n",
    "        c.execute(query)\n",
    "    except sqlite3.IntegrityError:\n",
    "        print(\"Erroe\")\n",
    "    except Exception:\n",
    "        try:    \n",
    "            c.execute('''CREATE TABLE file2key\n",
    "                 (filename text PRIMARY KEY, key text, piecelistname text)''')\n",
    "        except:\n",
    "            pass\n",
    "\n",
    "        query = \"INSERT INTO file2key VALUES('\" + origfilename + \"', '\" + key.decode(\"utf-8\") +  \"', '\" +  piecelistname + \"')\"\n",
    "        c.execute(query)\n",
    "    conn.commit()\n",
    "    conn.close()\n",
    "\n",
    "    os.system(\"rm -rf  output\")\n"
   ]
  },
  {
   "cell_type": "code",
   "execution_count": 81,
   "metadata": {},
   "outputs": [
    {
     "name": "stdout",
     "output_type": "stream",
     "text": [
      "Not Successful\n"
     ]
    }
   ],
   "source": [
    "#pull_file(\"teamviewer_13.1.8286_amd64.deb\")"
   ]
  },
  {
   "cell_type": "code",
   "execution_count": null,
   "metadata": {
    "collapsed": true
   },
   "outputs": [],
   "source": []
  }
 ],
 "metadata": {
  "kernelspec": {
   "display_name": "Python 3",
   "language": "python",
   "name": "python3"
  },
  "language_info": {
   "codemirror_mode": {
    "name": "ipython",
    "version": 3
   },
   "file_extension": ".py",
   "mimetype": "text/x-python",
   "name": "python",
   "nbconvert_exporter": "python",
   "pygments_lexer": "ipython3",
   "version": "3.6.1"
  }
 },
 "nbformat": 4,
 "nbformat_minor": 2
}
